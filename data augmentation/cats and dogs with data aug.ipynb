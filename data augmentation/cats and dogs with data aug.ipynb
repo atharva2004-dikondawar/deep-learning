{
 "cells": [
  {
   "cell_type": "code",
   "execution_count": 1,
   "id": "79c95298-31b4-45a3-a881-9c48972210e5",
   "metadata": {},
   "outputs": [],
   "source": [
    "from keras.preprocessing.image import ImageDataGenerator"
   ]
  },
  {
   "cell_type": "code",
   "execution_count": 6,
   "id": "50aabb8b-808a-4833-bf5c-378f62b5045b",
   "metadata": {},
   "outputs": [
    {
     "name": "stdout",
     "output_type": "stream",
     "text": [
      "Found 2000 images belonging to 2 classes.\n",
      "Found 1000 images belonging to 2 classes.\n"
     ]
    }
   ],
   "source": [
    "batch_size = 16\n",
    "\n",
    "# this is the augmentation configuration we will use for training \n",
    "train_datagen = ImageDataGenerator(\n",
    "    rescale=1./255,\n",
    "    shear_range=0.2,\n",
    "    zoom_range=0.2,\n",
    "    horizontal_flip=True\n",
    ")\n",
    "\n",
    "#  this the augmentation configuration we will use for testing:\n",
    "# only rescaling\n",
    "test_datagen = ImageDataGenerator(rescale=1./255)\n",
    "\n",
    "# this is a generator taht will read pictures found in subfolders of 'train/' and \n",
    "# indefinitely generate batches of augmenteed image data\n",
    "train_generator = train_datagen.flow_from_directory(\n",
    "    r'C:\\Users\\Atharva\\deep learning\\data augmentation\\train', # this is the target directory\n",
    "    target_size = (150,150), # all imagse will be resized to 150x150\n",
    "    batch_size=batch_size,\n",
    "    class_mode='binary' # since we use binary_crossentropy, we needd binary labels\n",
    ")\n",
    "\n",
    "# this is a similar generator, for validationn data\n",
    "validation_generator = test_datagen.flow_from_directory(\n",
    "    r'C:\\Users\\Atharva\\deep learning\\data augmentation\\test', # this is the target directory\n",
    "    target_size=(150,150),\n",
    "    batch_size=batch_size,\n",
    "    class_mode='binary'\n",
    ")"
   ]
  },
  {
   "cell_type": "code",
   "execution_count": 7,
   "id": "a9abcd2f-815d-4ee2-abd5-9cbe5dd0a0d3",
   "metadata": {},
   "outputs": [],
   "source": [
    "# create CNN fram here\n",
    "\n",
    "from keras import Sequential\n",
    "from keras.layers import Conv2D, MaxPooling2D, Dense, Flatten, Activation, Dropout\n",
    "\n",
    "model = Sequential()\n",
    "model.add(Conv2D(32, (3,3), input_shape=(150,150,3)))\n",
    "model.add(Activation('relu'))\n",
    "model.add(MaxPooling2D(pool_size=(2,2)))\n",
    "\n",
    "model.add(Conv2D(32, (3,3)))\n",
    "model.add(Activation('relu'))\n",
    "model.add(MaxPooling2D(pool_size=(2,2)))\n",
    "\n",
    "model.add(Conv2D(32, (3,3)))\n",
    "model.add(Activation('relu'))\n",
    "model.add(MaxPooling2D(pool_size=(2,2)))\n",
    "\n",
    "model.add(Flatten())\n",
    "model.add(Dense(64))\n",
    "model.add(Activation('relu'))\n",
    "model.add(Dropout(0.5))\n",
    "model.add(Dense(1))\n",
    "model.add(Activation('sigmoid'))\n",
    "\n",
    "model.compile(loss='binary_crossentropy',\n",
    "             optimizer = 'rmsprop',\n",
    "             metrics=['accuracy'])"
   ]
  },
  {
   "cell_type": "code",
   "execution_count": 8,
   "id": "6e2a1e3d-03e8-4fd7-bf0f-0a9f42528db9",
   "metadata": {},
   "outputs": [
    {
     "name": "stderr",
     "output_type": "stream",
     "text": [
      "C:\\Users\\Atharva\\AppData\\Local\\Temp\\ipykernel_13052\\2021578336.py:1: UserWarning: `Model.fit_generator` is deprecated and will be removed in a future version. Please use `Model.fit`, which supports generators.\n",
      "  model.fit_generator(\n"
     ]
    },
    {
     "name": "stdout",
     "output_type": "stream",
     "text": [
      "Epoch 1/10\n",
      "125/125 [==============================] - 30s 236ms/step - loss: 0.6999 - accuracy: 0.5115 - val_loss: 0.6784 - val_accuracy: 0.5838\n",
      "Epoch 2/10\n",
      "125/125 [==============================] - 26s 207ms/step - loss: 0.6783 - accuracy: 0.5875 - val_loss: 0.6369 - val_accuracy: 0.6413\n",
      "Epoch 3/10\n",
      "125/125 [==============================] - 26s 208ms/step - loss: 0.6376 - accuracy: 0.6490 - val_loss: 0.6138 - val_accuracy: 0.6425\n",
      "Epoch 4/10\n",
      "125/125 [==============================] - 24s 193ms/step - loss: 0.6085 - accuracy: 0.6815 - val_loss: 0.5831 - val_accuracy: 0.7088\n",
      "Epoch 5/10\n",
      "125/125 [==============================] - 24s 195ms/step - loss: 0.6072 - accuracy: 0.6865 - val_loss: 0.6252 - val_accuracy: 0.6700\n",
      "Epoch 6/10\n",
      "125/125 [==============================] - 24s 194ms/step - loss: 0.5893 - accuracy: 0.7070 - val_loss: 0.5755 - val_accuracy: 0.7237\n",
      "Epoch 7/10\n",
      "125/125 [==============================] - 26s 205ms/step - loss: 0.5592 - accuracy: 0.7240 - val_loss: 0.6181 - val_accuracy: 0.6725\n",
      "Epoch 8/10\n",
      "125/125 [==============================] - 27s 218ms/step - loss: 0.5611 - accuracy: 0.7265 - val_loss: 0.5430 - val_accuracy: 0.7387\n",
      "Epoch 9/10\n",
      "125/125 [==============================] - 23s 184ms/step - loss: 0.5600 - accuracy: 0.7280 - val_loss: 0.5524 - val_accuracy: 0.7262\n",
      "Epoch 10/10\n",
      "125/125 [==============================] - 24s 191ms/step - loss: 0.5384 - accuracy: 0.7385 - val_loss: 0.5711 - val_accuracy: 0.7188\n"
     ]
    },
    {
     "data": {
      "text/plain": [
       "<keras.callbacks.History at 0x1bd96f23fa0>"
      ]
     },
     "execution_count": 8,
     "metadata": {},
     "output_type": "execute_result"
    }
   ],
   "source": [
    "model.fit_generator(\n",
    "    train_generator,\n",
    "    steps_per_epoch=2000 // batch_size,\n",
    "    epochs=10,\n",
    "    validation_data=validation_generator,\n",
    "    validation_steps=800 // batch_size\n",
    ")"
   ]
  },
  {
   "cell_type": "code",
   "execution_count": null,
   "id": "4e5576f9-e0f9-445d-8000-856c3672f82a",
   "metadata": {},
   "outputs": [],
   "source": []
  }
 ],
 "metadata": {
  "kernelspec": {
   "display_name": "Python (dlenv)",
   "language": "python",
   "name": "dlenv"
  },
  "language_info": {
   "codemirror_mode": {
    "name": "ipython",
    "version": 3
   },
   "file_extension": ".py",
   "mimetype": "text/x-python",
   "name": "python",
   "nbconvert_exporter": "python",
   "pygments_lexer": "ipython3",
   "version": "3.8.18"
  }
 },
 "nbformat": 4,
 "nbformat_minor": 5
}
