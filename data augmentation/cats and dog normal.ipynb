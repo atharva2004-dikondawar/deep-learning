{
 "cells": [
  {
   "cell_type": "code",
   "execution_count": 4,
   "id": "5eea1195-3975-43db-9bbd-871d7d7fcbbe",
   "metadata": {},
   "outputs": [],
   "source": [
    "import cv2\n",
    "import os\n",
    "import random\n",
    "import numpy as np"
   ]
  },
  {
   "cell_type": "code",
   "execution_count": 5,
   "id": "f912236d-59e1-4557-a268-f751ee76afd9",
   "metadata": {},
   "outputs": [
    {
     "name": "stdout",
     "output_type": "stream",
     "text": [
      "4.6.0\n"
     ]
    }
   ],
   "source": [
    "print(cv2.__version__)"
   ]
  },
  {
   "cell_type": "code",
   "execution_count": 16,
   "id": "f90d56b6-82b5-47ad-8b01-8611dca5540c",
   "metadata": {},
   "outputs": [],
   "source": [
    "mydir = r'C:\\Users\\Atharva\\deep learning\\data augmentation\\train'"
   ]
  },
  {
   "cell_type": "code",
   "execution_count": 9,
   "id": "3246ceb1-1c76-4aa4-8f15-1c1baa23e98b",
   "metadata": {},
   "outputs": [],
   "source": [
    "categories = ['cats','dogs']"
   ]
  },
  {
   "cell_type": "code",
   "execution_count": 18,
   "id": "db367baa-4ad8-4ab4-8a48-c808fdead115",
   "metadata": {},
   "outputs": [],
   "source": [
    "data = []\n",
    "\n",
    "for i in categories:\n",
    "\n",
    "    folder_path = os.path.join(mydir,i)\n",
    "\n",
    "    if i == 'cats':\n",
    "        label = 0\n",
    "    else:\n",
    "        label = 1\n",
    "\n",
    "    for j in os.listdir(folder_path):\n",
    "\n",
    "        img_path = os.path.join(folder_path,j)\n",
    "        img = cv2.imread(img_path)\n",
    "        img = cv2.resize(img, (150,150))\n",
    "        data.append([img,label])"
   ]
  },
  {
   "cell_type": "code",
   "execution_count": 20,
   "id": "4add9105-2806-4719-97f5-056776e059a2",
   "metadata": {},
   "outputs": [],
   "source": [
    "random.shuffle(data)"
   ]
  },
  {
   "cell_type": "code",
   "execution_count": 21,
   "id": "816455ac-ce10-4319-b46d-61f02b093ce6",
   "metadata": {},
   "outputs": [],
   "source": [
    "x = []\n",
    "y = []\n",
    "for i in data:\n",
    "\n",
    "    x.append(i[0])\n",
    "    y.append(i[1])\n",
    "    "
   ]
  },
  {
   "cell_type": "code",
   "execution_count": 22,
   "id": "2cbcc8ad-7602-4663-87db-7cccf8ce9819",
   "metadata": {},
   "outputs": [],
   "source": [
    "y = np.array(y)\n",
    "x = np.array(x)"
   ]
  },
  {
   "cell_type": "code",
   "execution_count": 23,
   "id": "adaa68e4-2160-4ad5-96c8-1852e73f2d1b",
   "metadata": {},
   "outputs": [
    {
     "data": {
      "text/plain": [
       "(2000, 150, 150, 3)"
      ]
     },
     "execution_count": 23,
     "metadata": {},
     "output_type": "execute_result"
    }
   ],
   "source": [
    "x.shape"
   ]
  },
  {
   "cell_type": "code",
   "execution_count": 24,
   "id": "ddb53f70-71c8-4179-a9db-13e55952e86e",
   "metadata": {},
   "outputs": [],
   "source": [
    "x = x/255"
   ]
  },
  {
   "cell_type": "code",
   "execution_count": 27,
   "id": "7633c6b4-ef78-4c12-8dfb-c81e259fc552",
   "metadata": {},
   "outputs": [],
   "source": [
    "# create CNN fram here\n",
    "\n",
    "from keras import Sequential\n",
    "from keras.layers import Conv2D, MaxPooling2D, Dense, Flatten, Activation, Dropout\n",
    "\n",
    "model = Sequential()\n",
    "model.add(Conv2D(32, (3,3), input_shape=(150,150,3)))\n",
    "model.add(Activation('relu'))\n",
    "model.add(MaxPooling2D(pool_size=(2,2)))\n",
    "\n",
    "model.add(Conv2D(32, (3,3)))\n",
    "model.add(Activation('relu'))\n",
    "model.add(MaxPooling2D(pool_size=(2,2)))\n",
    "\n",
    "model.add(Conv2D(32, (3,3)))\n",
    "model.add(Activation('relu'))\n",
    "model.add(MaxPooling2D(pool_size=(2,2)))\n",
    "\n",
    "model.add(Flatten())\n",
    "model.add(Dense(64))\n",
    "model.add(Activation('relu'))\n",
    "model.add(Dropout(0.5))\n",
    "model.add(Dense(1))\n",
    "model.add(Activation('sigmoid'))\n",
    "\n",
    "model.compile(loss='binary_crossentropy',\n",
    "             optimizer = 'rmsprop',\n",
    "             metrics=['accuracy'])"
   ]
  },
  {
   "cell_type": "code",
   "execution_count": 28,
   "id": "cca17494-65ce-4595-9abf-d6715626a35e",
   "metadata": {},
   "outputs": [
    {
     "name": "stdout",
     "output_type": "stream",
     "text": [
      "Epoch 1/5\n",
      "57/57 [==============================] - 11s 178ms/step - loss: 0.7023 - accuracy: 0.4983 - val_loss: 0.6922 - val_accuracy: 0.5450\n",
      "Epoch 2/5\n",
      "57/57 [==============================] - 12s 217ms/step - loss: 0.6855 - accuracy: 0.5639 - val_loss: 0.6441 - val_accuracy: 0.6650\n",
      "Epoch 3/5\n",
      "57/57 [==============================] - 12s 216ms/step - loss: 0.6464 - accuracy: 0.6422 - val_loss: 0.6573 - val_accuracy: 0.6100\n",
      "Epoch 4/5\n",
      "57/57 [==============================] - 10s 183ms/step - loss: 0.6029 - accuracy: 0.6861 - val_loss: 0.6484 - val_accuracy: 0.6000\n",
      "Epoch 5/5\n",
      "57/57 [==============================] - 10s 179ms/step - loss: 0.5675 - accuracy: 0.7000 - val_loss: 0.6487 - val_accuracy: 0.6350\n"
     ]
    },
    {
     "data": {
      "text/plain": [
       "<keras.callbacks.History at 0x23287b524c0>"
      ]
     },
     "execution_count": 28,
     "metadata": {},
     "output_type": "execute_result"
    }
   ],
   "source": [
    "model.fit(x,y,epochs=5,validation_split=0.1)"
   ]
  },
  {
   "cell_type": "code",
   "execution_count": null,
   "id": "bb022db2-dac0-46d2-9d77-316c4360bf7f",
   "metadata": {},
   "outputs": [],
   "source": []
  }
 ],
 "metadata": {
  "kernelspec": {
   "display_name": "Python (dlenv)",
   "language": "python",
   "name": "dlenv"
  },
  "language_info": {
   "codemirror_mode": {
    "name": "ipython",
    "version": 3
   },
   "file_extension": ".py",
   "mimetype": "text/x-python",
   "name": "python",
   "nbconvert_exporter": "python",
   "pygments_lexer": "ipython3",
   "version": "3.8.18"
  }
 },
 "nbformat": 4,
 "nbformat_minor": 5
}
