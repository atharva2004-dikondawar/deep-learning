{
 "cells": [
  {
   "cell_type": "markdown",
   "id": "791f37db-2d63-4377-bed4-baee6ca1834b",
   "metadata": {},
   "source": [
    "## Pre-Trained Model as Feature Extractor in Model"
   ]
  },
  {
   "cell_type": "markdown",
   "id": "63e08807-67a3-44b1-acb5-3c87361c57a8",
   "metadata": {},
   "source": [
    "We can use some or all of the layers in a pre-trained model as a feature extraction component of a new model directly.\n",
    "\n",
    "This can be achieved by loading the model, then simply adding new layers. This may involve adding new convolutional and pooling layers to expand upon the feature extraction capabilities of the model or adding new fully connected classifier type layers to learn how to interpret the extracted features on a new dataset, or some combination.\n",
    "\n",
    "For example, we can load the VGG16 models without the classifier part of the model by specifying the “include_top” argument to “False”, and specify the preferred shape of the images in our new dataset as 300×300"
   ]
  },
  {
   "cell_type": "code",
   "execution_count": 1,
   "id": "62b9659d-74d4-45da-ae24-ee5445dbc193",
   "metadata": {},
   "outputs": [],
   "source": [
    "# model = VGG16(include_top=False, input_shape=(300, 300, 3))"
   ]
  },
  {
   "cell_type": "markdown",
   "id": "ddc52a01-aa21-4bca-b3e3-5e075e6aad17",
   "metadata": {},
   "source": [
    "We can then use the Keras function API to add a new Flatten layer after the last pooling layer in the VGG16 model, then define a new classifier model with a Dense fully connected layer and an output layer that will predict the probability for 10 classes"
   ]
  },
  {
   "cell_type": "code",
   "execution_count": 2,
   "id": "60acb6b2-4c29-411f-ad21-0c2df616642f",
   "metadata": {},
   "outputs": [],
   "source": [
    "# # add new classifier layers\n",
    "# flat1 = Flatten()(model.layers[-1].output)\n",
    "# class1 = Dense(1024, activation='relu')(flat1)\n",
    "# output = Dense(10, activation='softmax')(class1)\n",
    "# # define new model\n",
    "# model = Model(inputs=model.inputs, outputs=output)"
   ]
  },
  {
   "cell_type": "markdown",
   "id": "dc2988a1-ba2d-4919-a2b9-5589edf3a2ce",
   "metadata": {},
   "source": [
    "An alternative approach to adding a Flatten layer would be to define the VGG16 model with an average pooling layer, and then add fully connected layers. Perhaps try both approaches on your application and see which results in the best performance.\n",
    "\n",
    "The weights of the VGG16 model and the weights for the new model will all be trained together on the new dataset."
   ]
  },
  {
   "cell_type": "code",
   "execution_count": 3,
   "id": "db41ee1b-5e1a-4e1e-8a33-c71c49db298e",
   "metadata": {},
   "outputs": [
    {
     "name": "stdout",
     "output_type": "stream",
     "text": [
      "Downloading data from https://storage.googleapis.com/tensorflow/keras-applications/vgg16/vgg16_weights_tf_dim_ordering_tf_kernels_notop.h5\n",
      "58889256/58889256 [==============================] - 8s 0us/step\n",
      "Model: \"model\"\n",
      "_________________________________________________________________\n",
      " Layer (type)                Output Shape              Param #   \n",
      "=================================================================\n",
      " input_1 (InputLayer)        [(None, 300, 300, 3)]     0         \n",
      "                                                                 \n",
      " block1_conv1 (Conv2D)       (None, 300, 300, 64)      1792      \n",
      "                                                                 \n",
      " block1_conv2 (Conv2D)       (None, 300, 300, 64)      36928     \n",
      "                                                                 \n",
      " block1_pool (MaxPooling2D)  (None, 150, 150, 64)      0         \n",
      "                                                                 \n",
      " block2_conv1 (Conv2D)       (None, 150, 150, 128)     73856     \n",
      "                                                                 \n",
      " block2_conv2 (Conv2D)       (None, 150, 150, 128)     147584    \n",
      "                                                                 \n",
      " block2_pool (MaxPooling2D)  (None, 75, 75, 128)       0         \n",
      "                                                                 \n",
      " block3_conv1 (Conv2D)       (None, 75, 75, 256)       295168    \n",
      "                                                                 \n",
      " block3_conv2 (Conv2D)       (None, 75, 75, 256)       590080    \n",
      "                                                                 \n",
      " block3_conv3 (Conv2D)       (None, 75, 75, 256)       590080    \n",
      "                                                                 \n",
      " block3_pool (MaxPooling2D)  (None, 37, 37, 256)       0         \n",
      "                                                                 \n",
      " block4_conv1 (Conv2D)       (None, 37, 37, 512)       1180160   \n",
      "                                                                 \n",
      " block4_conv2 (Conv2D)       (None, 37, 37, 512)       2359808   \n",
      "                                                                 \n",
      " block4_conv3 (Conv2D)       (None, 37, 37, 512)       2359808   \n",
      "                                                                 \n",
      " block4_pool (MaxPooling2D)  (None, 18, 18, 512)       0         \n",
      "                                                                 \n",
      " block5_conv1 (Conv2D)       (None, 18, 18, 512)       2359808   \n",
      "                                                                 \n",
      " block5_conv2 (Conv2D)       (None, 18, 18, 512)       2359808   \n",
      "                                                                 \n",
      " block5_conv3 (Conv2D)       (None, 18, 18, 512)       2359808   \n",
      "                                                                 \n",
      " block5_pool (MaxPooling2D)  (None, 9, 9, 512)         0         \n",
      "                                                                 \n",
      " flatten (Flatten)           (None, 41472)             0         \n",
      "                                                                 \n",
      " dense (Dense)               (None, 1024)              42468352  \n",
      "                                                                 \n",
      " dense_1 (Dense)             (None, 10)                10250     \n",
      "                                                                 \n",
      "=================================================================\n",
      "Total params: 57,193,290\n",
      "Trainable params: 57,193,290\n",
      "Non-trainable params: 0\n",
      "_________________________________________________________________\n"
     ]
    }
   ],
   "source": [
    "# example of tending the vgg16 model\n",
    "from keras.applications.vgg16 import VGG16\n",
    "from tensorflow.keras.models import Model\n",
    "from tensorflow.keras.layers import Dense\n",
    "from tensorflow.keras.layers import Flatten\n",
    "\n",
    "# load model without classifier layers\n",
    "model = VGG16(include_top=False, input_shape=(300, 300, 3))\n",
    "\n",
    "# add new classifier layers\n",
    "flat1 = Flatten()(model.layers[-1].output)\n",
    "class1 = Dense(1024, activation='relu')(flat1)\n",
    "output = Dense(10, activation='softmax')(class1)\n",
    "\n",
    "# define new model\n",
    "model = Model(inputs=model.inputs, outputs=output)\n",
    "\n",
    "# summarize\n",
    "model.summary()\n",
    "\n",
    "# ..."
   ]
  },
  {
   "cell_type": "markdown",
   "id": "fb22d766-1399-48cb-91ef-7244b96f2367",
   "metadata": {},
   "source": [
    "## Fine Tunning"
   ]
  },
  {
   "cell_type": "markdown",
   "id": "5a3cfb62-0f46-4723-9fd4-4bd02a67e9a7",
   "metadata": {},
   "source": [
    "Alternately, we may wish to use the VGG16 model layers, but train the new layers of the model without updating the weights of the VGG16 layers. This will allow the new output layers to learn to interpret the learned features of the VGG16 model.\r\n",
    "\r\n",
    "This can be achieved by setting the “trainable” property on each of the layers in the loaded VGG model to False prior to training. For example:"
   ]
  },
  {
   "cell_type": "code",
   "execution_count": null,
   "id": "5cc73a87-9af0-4d88-8020-5ed6dd3d4b30",
   "metadata": {},
   "outputs": [],
   "source": [
    "# load model without classifier layers\n",
    "model = VGG16(include_top=False, input_shape=(300, 300, 3)) \n",
    "# mark loaded layers as not trainable\n",
    "for layer in model.layers:\n",
    "# layer.trainable = False\n",
    "..."
   ]
  },
  {
   "cell_type": "markdown",
   "id": "a0aaea7a-578a-4335-a0cf-5376d3bc062d",
   "metadata": {},
   "source": [
    "You can pick and choose which layers are trainable.\n",
    "\n",
    "For example, perhaps you want to retrain some of the convolutional layers deep in the model, but none of the layers earlier in the model. For example:"
   ]
  },
  {
   "cell_type": "code",
   "execution_count": null,
   "id": "c44d2276-24db-49fe-a310-865c2750f3a1",
   "metadata": {},
   "outputs": [],
   "source": [
    "# load model without classifier layers\n",
    "model = VGG16(include_top=False, input_shape=(300, 300, 3))\n",
    "# mark some layers as not trainable\n",
    "model.get_layer('block1_conv1').trainable = False\n",
    "model.get_layer('block1_conv2').trainable = False\n",
    "model.get_layer('block2_conv1').trainable = False\n",
    "model.get_layer('block2_conv2').trainable = False\n",
    "..."
   ]
  }
 ],
 "metadata": {
  "kernelspec": {
   "display_name": "Python (dlenv)",
   "language": "python",
   "name": "dlenv"
  },
  "language_info": {
   "codemirror_mode": {
    "name": "ipython",
    "version": 3
   },
   "file_extension": ".py",
   "mimetype": "text/x-python",
   "name": "python",
   "nbconvert_exporter": "python",
   "pygments_lexer": "ipython3",
   "version": "3.8.18"
  }
 },
 "nbformat": 4,
 "nbformat_minor": 5
}
